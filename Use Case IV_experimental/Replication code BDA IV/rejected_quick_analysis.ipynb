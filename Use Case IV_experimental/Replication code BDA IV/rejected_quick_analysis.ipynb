{
 "cells": [
  {
   "cell_type": "markdown",
   "metadata": {},
   "source": [
    "Load the required packages"
   ]
  },
  {
   "cell_type": "code",
   "execution_count": 2,
   "metadata": {
    "collapsed": true
   },
   "outputs": [],
   "source": [
    "import pandas as pd\n",
    "import numpy as np"
   ]
  },
  {
   "cell_type": "markdown",
   "metadata": {},
   "source": [
    "*Load the raw dataset for rejected\n",
    "loans*"
   ]
  },
  {
   "cell_type": "code",
   "execution_count": 3,
   "metadata": {},
   "outputs": [],
   "source": [
    "data = pd.read_csv('rejected_2007_to_2017.lfs.csv')"
   ]
  },
  {
   "cell_type": "markdown",
   "metadata": {},
   "source": [
    "*View the first rows of the dataset*"
   ]
  },
  {
   "cell_type": "code",
   "execution_count": 4,
   "metadata": {},
   "outputs": [
    {
     "data": {
      "text/html": [
       "<div>\n",
       "<style scoped>\n",
       "    .dataframe tbody tr th:only-of-type {\n",
       "        vertical-align: middle;\n",
       "    }\n",
       "\n",
       "    .dataframe tbody tr th {\n",
       "        vertical-align: top;\n",
       "    }\n",
       "\n",
       "    .dataframe thead th {\n",
       "        text-align: right;\n",
       "    }\n",
       "</style>\n",
       "<table border=\"1\" class=\"dataframe\">\n",
       "  <thead>\n",
       "    <tr style=\"text-align: right;\">\n",
       "      <th></th>\n",
       "      <th>Amount Requested</th>\n",
       "      <th>Application Date</th>\n",
       "      <th>Loan Title</th>\n",
       "      <th>Risk_Score</th>\n",
       "      <th>Debt-To-Income Ratio</th>\n",
       "      <th>Zip Code</th>\n",
       "      <th>State</th>\n",
       "      <th>Employment Length</th>\n",
       "      <th>Policy Code</th>\n",
       "    </tr>\n",
       "  </thead>\n",
       "  <tbody>\n",
       "    <tr>\n",
       "      <th>0</th>\n",
       "      <td>4000.0</td>\n",
       "      <td>2016-07-01</td>\n",
       "      <td>major_purchase</td>\n",
       "      <td>NaN</td>\n",
       "      <td>4.21%</td>\n",
       "      <td>750xx</td>\n",
       "      <td>TX</td>\n",
       "      <td>5 years</td>\n",
       "      <td>0.0</td>\n",
       "    </tr>\n",
       "    <tr>\n",
       "      <th>1</th>\n",
       "      <td>20000.0</td>\n",
       "      <td>2016-07-01</td>\n",
       "      <td>debt_consolidation</td>\n",
       "      <td>NaN</td>\n",
       "      <td>0.39%</td>\n",
       "      <td>930xx</td>\n",
       "      <td>CA</td>\n",
       "      <td>&lt; 1 year</td>\n",
       "      <td>0.0</td>\n",
       "    </tr>\n",
       "    <tr>\n",
       "      <th>2</th>\n",
       "      <td>1000.0</td>\n",
       "      <td>2016-07-01</td>\n",
       "      <td>renewable_energy</td>\n",
       "      <td>NaN</td>\n",
       "      <td>42.38%</td>\n",
       "      <td>923xx</td>\n",
       "      <td>CA</td>\n",
       "      <td>5 years</td>\n",
       "      <td>0.0</td>\n",
       "    </tr>\n",
       "    <tr>\n",
       "      <th>3</th>\n",
       "      <td>15000.0</td>\n",
       "      <td>2016-07-01</td>\n",
       "      <td>home_improvement</td>\n",
       "      <td>NaN</td>\n",
       "      <td>5.98%</td>\n",
       "      <td>910xx</td>\n",
       "      <td>CA</td>\n",
       "      <td>5 years</td>\n",
       "      <td>0.0</td>\n",
       "    </tr>\n",
       "    <tr>\n",
       "      <th>4</th>\n",
       "      <td>8500.0</td>\n",
       "      <td>2016-07-01</td>\n",
       "      <td>debt_consolidation</td>\n",
       "      <td>NaN</td>\n",
       "      <td>29.14%</td>\n",
       "      <td>210xx</td>\n",
       "      <td>MD</td>\n",
       "      <td>&lt; 1 year</td>\n",
       "      <td>0.0</td>\n",
       "    </tr>\n",
       "  </tbody>\n",
       "</table>\n",
       "</div>"
      ],
      "text/plain": [
       "   Amount Requested Application Date          Loan Title  Risk_Score  \\\n",
       "0            4000.0       2016-07-01      major_purchase         NaN   \n",
       "1           20000.0       2016-07-01  debt_consolidation         NaN   \n",
       "2            1000.0       2016-07-01    renewable_energy         NaN   \n",
       "3           15000.0       2016-07-01    home_improvement         NaN   \n",
       "4            8500.0       2016-07-01  debt_consolidation         NaN   \n",
       "\n",
       "  Debt-To-Income Ratio Zip Code State Employment Length  Policy Code  \n",
       "0                4.21%    750xx    TX           5 years          0.0  \n",
       "1                0.39%    930xx    CA          < 1 year          0.0  \n",
       "2               42.38%    923xx    CA           5 years          0.0  \n",
       "3                5.98%    910xx    CA           5 years          0.0  \n",
       "4               29.14%    210xx    MD          < 1 year          0.0  "
      ]
     },
     "execution_count": 4,
     "metadata": {},
     "output_type": "execute_result"
    }
   ],
   "source": [
    "data.head()"
   ]
  },
  {
   "cell_type": "markdown",
   "metadata": {},
   "source": [
    "*View the columns of the dataset*"
   ]
  },
  {
   "cell_type": "code",
   "execution_count": 5,
   "metadata": {},
   "outputs": [
    {
     "data": {
      "text/plain": [
       "Index(['Amount Requested', 'Application Date', 'Loan Title', 'Risk_Score',\n",
       "       'Debt-To-Income Ratio', 'Zip Code', 'State', 'Employment Length',\n",
       "       'Policy Code'],\n",
       "      dtype='object')"
      ]
     },
     "execution_count": 5,
     "metadata": {},
     "output_type": "execute_result"
    }
   ],
   "source": [
    "data.columns"
   ]
  },
  {
   "cell_type": "markdown",
   "metadata": {},
   "source": [
    "*Rename the columns to match the naming in the dataset of accepted loans. NOTE: application date is not really issue date, but they are assumed so in order to have a common time index between the two datasets.*"
   ]
  },
  {
   "cell_type": "code",
   "execution_count": 6,
   "metadata": {},
   "outputs": [],
   "source": [
    "new_names = {'Amount Requested': 'loan_amnt', 'Loan Title': 'purpose', 'Debt-To-Income Ratio': 'dti',\n",
    "             'Employment Length': 'emp_length', 'Application Date': 'issue_d', }"
   ]
  },
  {
   "cell_type": "code",
   "execution_count": 7,
   "metadata": {},
   "outputs": [
    {
     "data": {
      "text/plain": [
       "(16131472, 9)"
      ]
     },
     "execution_count": 7,
     "metadata": {},
     "output_type": "execute_result"
    }
   ],
   "source": [
    "data.shape"
   ]
  },
  {
   "cell_type": "markdown",
   "metadata": {},
   "source": [
    "*Look at other columns in the dataset. First check for null values, then look at a sample of the data.*"
   ]
  },
  {
   "cell_type": "code",
   "execution_count": 8,
   "metadata": {},
   "outputs": [
    {
     "data": {
      "text/plain": [
       "9323619"
      ]
     },
     "execution_count": 8,
     "metadata": {},
     "output_type": "execute_result"
    }
   ],
   "source": [
    "data['Risk_Score'].isnull().sum()"
   ]
  },
  {
   "cell_type": "code",
   "execution_count": 9,
   "metadata": {},
   "outputs": [
    {
     "data": {
      "text/plain": [
       "3488888     705.0\n",
       "1220145       NaN\n",
       "16018728      NaN\n",
       "12792043    774.0\n",
       "9947905       NaN\n",
       "4666752     701.0\n",
       "7052831       NaN\n",
       "9993777       NaN\n",
       "10710788      NaN\n",
       "11966417      NaN\n",
       "Name: Risk_Score, dtype: float64"
      ]
     },
     "execution_count": 9,
     "metadata": {},
     "output_type": "execute_result"
    }
   ],
   "source": [
    "data['Risk_Score'].sample(10)"
   ]
  },
  {
   "cell_type": "code",
   "execution_count": 10,
   "metadata": {},
   "outputs": [
    {
     "data": {
      "text/plain": [
       "46029"
      ]
     },
     "execution_count": 10,
     "metadata": {},
     "output_type": "execute_result"
    }
   ],
   "source": [
    "data['Policy Code'].astype(bool).sum(axis=0)"
   ]
  },
  {
   "cell_type": "markdown",
   "metadata": {},
   "source": [
    "*This feature is also quite sparse and is hence removed.*"
   ]
  },
  {
   "cell_type": "markdown",
   "metadata": {},
   "source": [
    "*Drop not applicable columns such as state, zip code, policy code and risk score as not really a corresponding one in the accepted dataset...*"
   ]
  },
  {
   "cell_type": "code",
   "execution_count": 11,
   "metadata": {},
   "outputs": [],
   "source": [
    "data.drop(['Risk_Score', 'Zip Code', 'State', 'Policy Code'], axis=1, inplace=True) #drop('issue_d', axis=1, inplace=True)"
   ]
  },
  {
   "cell_type": "markdown",
   "metadata": {},
   "source": [
    "*Look at the remaining columns.*"
   ]
  },
  {
   "cell_type": "code",
   "execution_count": 12,
   "metadata": {},
   "outputs": [
    {
     "data": {
      "text/plain": [
       "Index(['Amount Requested', 'Application Date', 'Loan Title',\n",
       "       'Debt-To-Income Ratio', 'Employment Length'],\n",
       "      dtype='object')"
      ]
     },
     "execution_count": 12,
     "metadata": {},
     "output_type": "execute_result"
    }
   ],
   "source": [
    "data.columns"
   ]
  },
  {
   "cell_type": "markdown",
   "metadata": {},
   "source": [
    "*Rename the columns as per the dictionary above.*"
   ]
  },
  {
   "cell_type": "code",
   "execution_count": 13,
   "metadata": {},
   "outputs": [],
   "source": [
    "data = data.rename(mapper = new_names, axis = 1)"
   ]
  },
  {
   "cell_type": "markdown",
   "metadata": {},
   "source": [
    "*Check column names now.*"
   ]
  },
  {
   "cell_type": "code",
   "execution_count": 14,
   "metadata": {},
   "outputs": [
    {
     "data": {
      "text/plain": [
       "Index(['loan_amnt', 'issue_d', 'purpose', 'dti', 'emp_length'], dtype='object')"
      ]
     },
     "execution_count": 14,
     "metadata": {},
     "output_type": "execute_result"
    }
   ],
   "source": [
    "data.columns"
   ]
  },
  {
   "cell_type": "markdown",
   "metadata": {},
   "source": [
    "*Look at data formatting in the remaining columns to see what is yet to be formatted/cleaned.*"
   ]
  },
  {
   "cell_type": "code",
   "execution_count": 15,
   "metadata": {},
   "outputs": [
    {
     "data": {
      "text/html": [
       "<div>\n",
       "<style scoped>\n",
       "    .dataframe tbody tr th:only-of-type {\n",
       "        vertical-align: middle;\n",
       "    }\n",
       "\n",
       "    .dataframe tbody tr th {\n",
       "        vertical-align: top;\n",
       "    }\n",
       "\n",
       "    .dataframe thead th {\n",
       "        text-align: right;\n",
       "    }\n",
       "</style>\n",
       "<table border=\"1\" class=\"dataframe\">\n",
       "  <thead>\n",
       "    <tr style=\"text-align: right;\">\n",
       "      <th></th>\n",
       "      <th>loan_amnt</th>\n",
       "      <th>issue_d</th>\n",
       "      <th>purpose</th>\n",
       "      <th>dti</th>\n",
       "      <th>emp_length</th>\n",
       "    </tr>\n",
       "  </thead>\n",
       "  <tbody>\n",
       "    <tr>\n",
       "      <th>0</th>\n",
       "      <td>4000.0</td>\n",
       "      <td>2016-07-01</td>\n",
       "      <td>major_purchase</td>\n",
       "      <td>4.21%</td>\n",
       "      <td>5 years</td>\n",
       "    </tr>\n",
       "    <tr>\n",
       "      <th>1</th>\n",
       "      <td>20000.0</td>\n",
       "      <td>2016-07-01</td>\n",
       "      <td>debt_consolidation</td>\n",
       "      <td>0.39%</td>\n",
       "      <td>&lt; 1 year</td>\n",
       "    </tr>\n",
       "    <tr>\n",
       "      <th>2</th>\n",
       "      <td>1000.0</td>\n",
       "      <td>2016-07-01</td>\n",
       "      <td>renewable_energy</td>\n",
       "      <td>42.38%</td>\n",
       "      <td>5 years</td>\n",
       "    </tr>\n",
       "    <tr>\n",
       "      <th>3</th>\n",
       "      <td>15000.0</td>\n",
       "      <td>2016-07-01</td>\n",
       "      <td>home_improvement</td>\n",
       "      <td>5.98%</td>\n",
       "      <td>5 years</td>\n",
       "    </tr>\n",
       "    <tr>\n",
       "      <th>4</th>\n",
       "      <td>8500.0</td>\n",
       "      <td>2016-07-01</td>\n",
       "      <td>debt_consolidation</td>\n",
       "      <td>29.14%</td>\n",
       "      <td>&lt; 1 year</td>\n",
       "    </tr>\n",
       "  </tbody>\n",
       "</table>\n",
       "</div>"
      ],
      "text/plain": [
       "   loan_amnt     issue_d             purpose     dti emp_length\n",
       "0     4000.0  2016-07-01      major_purchase   4.21%    5 years\n",
       "1    20000.0  2016-07-01  debt_consolidation   0.39%   < 1 year\n",
       "2     1000.0  2016-07-01    renewable_energy  42.38%    5 years\n",
       "3    15000.0  2016-07-01    home_improvement   5.98%    5 years\n",
       "4     8500.0  2016-07-01  debt_consolidation  29.14%   < 1 year"
      ]
     },
     "execution_count": 15,
     "metadata": {},
     "output_type": "execute_result"
    }
   ],
   "source": [
    "data.head()"
   ]
  },
  {
   "cell_type": "markdown",
   "metadata": {},
   "source": [
    "*Look at fractions of missing values per column.*"
   ]
  },
  {
   "cell_type": "code",
   "execution_count": 16,
   "metadata": {},
   "outputs": [],
   "source": [
    "missing_fractions = data.isnull().mean().sort_values(ascending=False)"
   ]
  },
  {
   "cell_type": "code",
   "execution_count": 17,
   "metadata": {},
   "outputs": [
    {
     "data": {
      "text/plain": [
       "emp_length    0.038865\n",
       "purpose       0.000081\n",
       "dti           0.000000\n",
       "issue_d       0.000000\n",
       "loan_amnt     0.000000\n",
       "dtype: float64"
      ]
     },
     "execution_count": 17,
     "metadata": {},
     "output_type": "execute_result"
    }
   ],
   "source": [
    "missing_fractions"
   ]
  },
  {
   "cell_type": "markdown",
   "metadata": {},
   "source": [
    "*Format the 'emp_length' column to numbers from strings, as per the accepted dataset.*"
   ]
  },
  {
   "cell_type": "code",
   "execution_count": 18,
   "metadata": {},
   "outputs": [],
   "source": [
    "data['emp_length'].replace(to_replace='10+ years', value='10 years', inplace=True)"
   ]
  },
  {
   "cell_type": "code",
   "execution_count": 19,
   "metadata": {},
   "outputs": [],
   "source": [
    "data['emp_length'].replace('< 1 year', '0 years', inplace=True)"
   ]
  },
  {
   "cell_type": "code",
   "execution_count": 20,
   "metadata": {},
   "outputs": [],
   "source": [
    "def emp_length_to_int(s):\n",
    "    if pd.isnull(s):\n",
    "        return s\n",
    "    else:\n",
    "        return np.int8(s.split()[0])"
   ]
  },
  {
   "cell_type": "code",
   "execution_count": 21,
   "metadata": {},
   "outputs": [],
   "source": [
    "data['emp_length'] = data['emp_length'].apply(emp_length_to_int)"
   ]
  },
  {
   "cell_type": "markdown",
   "metadata": {},
   "source": [
    "*Check value counts.*"
   ]
  },
  {
   "cell_type": "code",
   "execution_count": 22,
   "metadata": {},
   "outputs": [
    {
     "data": {
      "text/plain": [
       " 0.0     12479858\n",
       " 1.0       134887\n",
       " 2.0       120177\n",
       " 3.0        98433\n",
       " 4.0        71832\n",
       " 5.0      2156621\n",
       " 6.0        47255\n",
       " 7.0        39351\n",
       " 8.0        38755\n",
       " 9.0        29748\n",
       " 10.0      287601\n",
       "NaN        626954\n",
       "Name: emp_length, dtype: int64"
      ]
     },
     "execution_count": 22,
     "metadata": {},
     "output_type": "execute_result"
    }
   ],
   "source": [
    "data['emp_length'].value_counts(dropna=False).sort_index()"
   ]
  },
  {
   "cell_type": "markdown",
   "metadata": {},
   "source": [
    "*Set the rejected label for prediction, accepted will be 0 in the accepted dataset for a unique column when merged.*"
   ]
  },
  {
   "cell_type": "code",
   "execution_count": 23,
   "metadata": {},
   "outputs": [],
   "source": [
    "data['rejected'] = 1"
   ]
  },
  {
   "cell_type": "code",
   "execution_count": 24,
   "metadata": {},
   "outputs": [
    {
     "data": {
      "text/html": [
       "<div>\n",
       "<style scoped>\n",
       "    .dataframe tbody tr th:only-of-type {\n",
       "        vertical-align: middle;\n",
       "    }\n",
       "\n",
       "    .dataframe tbody tr th {\n",
       "        vertical-align: top;\n",
       "    }\n",
       "\n",
       "    .dataframe thead th {\n",
       "        text-align: right;\n",
       "    }\n",
       "</style>\n",
       "<table border=\"1\" class=\"dataframe\">\n",
       "  <thead>\n",
       "    <tr style=\"text-align: right;\">\n",
       "      <th></th>\n",
       "      <th>loan_amnt</th>\n",
       "      <th>issue_d</th>\n",
       "      <th>purpose</th>\n",
       "      <th>dti</th>\n",
       "      <th>emp_length</th>\n",
       "      <th>rejected</th>\n",
       "    </tr>\n",
       "  </thead>\n",
       "  <tbody>\n",
       "    <tr>\n",
       "      <th>0</th>\n",
       "      <td>4000.0</td>\n",
       "      <td>2016-07-01</td>\n",
       "      <td>major_purchase</td>\n",
       "      <td>4.21%</td>\n",
       "      <td>5.0</td>\n",
       "      <td>1</td>\n",
       "    </tr>\n",
       "    <tr>\n",
       "      <th>1</th>\n",
       "      <td>20000.0</td>\n",
       "      <td>2016-07-01</td>\n",
       "      <td>debt_consolidation</td>\n",
       "      <td>0.39%</td>\n",
       "      <td>0.0</td>\n",
       "      <td>1</td>\n",
       "    </tr>\n",
       "    <tr>\n",
       "      <th>2</th>\n",
       "      <td>1000.0</td>\n",
       "      <td>2016-07-01</td>\n",
       "      <td>renewable_energy</td>\n",
       "      <td>42.38%</td>\n",
       "      <td>5.0</td>\n",
       "      <td>1</td>\n",
       "    </tr>\n",
       "    <tr>\n",
       "      <th>3</th>\n",
       "      <td>15000.0</td>\n",
       "      <td>2016-07-01</td>\n",
       "      <td>home_improvement</td>\n",
       "      <td>5.98%</td>\n",
       "      <td>5.0</td>\n",
       "      <td>1</td>\n",
       "    </tr>\n",
       "    <tr>\n",
       "      <th>4</th>\n",
       "      <td>8500.0</td>\n",
       "      <td>2016-07-01</td>\n",
       "      <td>debt_consolidation</td>\n",
       "      <td>29.14%</td>\n",
       "      <td>0.0</td>\n",
       "      <td>1</td>\n",
       "    </tr>\n",
       "  </tbody>\n",
       "</table>\n",
       "</div>"
      ],
      "text/plain": [
       "   loan_amnt     issue_d             purpose     dti  emp_length  rejected\n",
       "0     4000.0  2016-07-01      major_purchase   4.21%         5.0         1\n",
       "1    20000.0  2016-07-01  debt_consolidation   0.39%         0.0         1\n",
       "2     1000.0  2016-07-01    renewable_energy  42.38%         5.0         1\n",
       "3    15000.0  2016-07-01    home_improvement   5.98%         5.0         1\n",
       "4     8500.0  2016-07-01  debt_consolidation  29.14%         0.0         1"
      ]
     },
     "execution_count": 24,
     "metadata": {},
     "output_type": "execute_result"
    }
   ],
   "source": [
    "data.head()"
   ]
  },
  {
   "cell_type": "markdown",
   "metadata": {},
   "source": [
    "*Load the dataset of accepted loans.*"
   ]
  },
  {
   "cell_type": "code",
   "execution_count": 25,
   "metadata": {},
   "outputs": [],
   "source": [
    "data_acc = pd.read_csv('accepted_2007_to_2017_all_V_0.lfs.csv')\n",
    "data_acc.drop('Unnamed: 0', axis=1, inplace=True)"
   ]
  },
  {
   "cell_type": "markdown",
   "metadata": {},
   "source": [
    "*View column labels*"
   ]
  },
  {
   "cell_type": "code",
   "execution_count": 26,
   "metadata": {},
   "outputs": [
    {
     "data": {
      "text/plain": [
       "Index(['loan_amnt', 'term', 'installment', 'emp_length', 'home_ownership',\n",
       "       'verification_status', 'issue_d', 'purpose', 'dti', 'earliest_cr_line',\n",
       "       'open_acc', 'pub_rec', 'revol_util', 'total_acc', 'application_type',\n",
       "       'mort_acc', 'pub_rec_bankruptcies', 'log_annual_inc', 'fico_score',\n",
       "       'log_revol_bal', 'charged_off'],\n",
       "      dtype='object')"
      ]
     },
     "execution_count": 26,
     "metadata": {},
     "output_type": "execute_result"
    }
   ],
   "source": [
    "data_acc.columns"
   ]
  },
  {
   "cell_type": "code",
   "execution_count": 27,
   "metadata": {},
   "outputs": [],
   "source": [
    "data_acc['rejected'] = 0"
   ]
  },
  {
   "cell_type": "code",
   "execution_count": 28,
   "metadata": {},
   "outputs": [
    {
     "data": {
      "text/plain": [
       "Index(['loan_amnt', 'term', 'installment', 'emp_length', 'home_ownership',\n",
       "       'verification_status', 'issue_d', 'purpose', 'dti', 'earliest_cr_line',\n",
       "       'open_acc', 'pub_rec', 'revol_util', 'total_acc', 'application_type',\n",
       "       'mort_acc', 'pub_rec_bankruptcies', 'log_annual_inc', 'fico_score',\n",
       "       'log_revol_bal', 'charged_off', 'rejected'],\n",
       "      dtype='object')"
      ]
     },
     "execution_count": 28,
     "metadata": {},
     "output_type": "execute_result"
    }
   ],
   "source": [
    "data_acc.columns"
   ]
  },
  {
   "cell_type": "markdown",
   "metadata": {},
   "source": [
    "*Columns to drop.*"
   ]
  },
  {
   "cell_type": "code",
   "execution_count": 29,
   "metadata": {},
   "outputs": [],
   "source": [
    "to_drop = ['term', 'installment', 'home_ownership',\n",
    "           'verification_status', 'earliest_cr_line',\n",
    "           'open_acc', 'pub_rec', 'revol_util', 'total_acc', 'application_type',\n",
    "           'mort_acc', 'pub_rec_bankruptcies', 'log_annual_inc', 'fico_score',\n",
    "           'log_revol_bal', 'charged_off']"
   ]
  },
  {
   "cell_type": "code",
   "execution_count": 30,
   "metadata": {},
   "outputs": [],
   "source": [
    "data_acc.drop(to_drop, axis=1, inplace=True)"
   ]
  },
  {
   "cell_type": "code",
   "execution_count": 31,
   "metadata": {},
   "outputs": [
    {
     "data": {
      "text/html": [
       "<div>\n",
       "<style scoped>\n",
       "    .dataframe tbody tr th:only-of-type {\n",
       "        vertical-align: middle;\n",
       "    }\n",
       "\n",
       "    .dataframe tbody tr th {\n",
       "        vertical-align: top;\n",
       "    }\n",
       "\n",
       "    .dataframe thead th {\n",
       "        text-align: right;\n",
       "    }\n",
       "</style>\n",
       "<table border=\"1\" class=\"dataframe\">\n",
       "  <thead>\n",
       "    <tr style=\"text-align: right;\">\n",
       "      <th></th>\n",
       "      <th>loan_amnt</th>\n",
       "      <th>emp_length</th>\n",
       "      <th>issue_d</th>\n",
       "      <th>purpose</th>\n",
       "      <th>dti</th>\n",
       "      <th>rejected</th>\n",
       "    </tr>\n",
       "  </thead>\n",
       "  <tbody>\n",
       "    <tr>\n",
       "      <th>0</th>\n",
       "      <td>15000.0</td>\n",
       "      <td>10.0</td>\n",
       "      <td>Dec-2014</td>\n",
       "      <td>debt_consolidation</td>\n",
       "      <td>12.03</td>\n",
       "      <td>0</td>\n",
       "    </tr>\n",
       "    <tr>\n",
       "      <th>1</th>\n",
       "      <td>10400.0</td>\n",
       "      <td>8.0</td>\n",
       "      <td>Dec-2014</td>\n",
       "      <td>credit_card</td>\n",
       "      <td>14.92</td>\n",
       "      <td>0</td>\n",
       "    </tr>\n",
       "    <tr>\n",
       "      <th>2</th>\n",
       "      <td>21425.0</td>\n",
       "      <td>6.0</td>\n",
       "      <td>Dec-2014</td>\n",
       "      <td>credit_card</td>\n",
       "      <td>18.49</td>\n",
       "      <td>0</td>\n",
       "    </tr>\n",
       "    <tr>\n",
       "      <th>3</th>\n",
       "      <td>7650.0</td>\n",
       "      <td>0.0</td>\n",
       "      <td>Dec-2014</td>\n",
       "      <td>debt_consolidation</td>\n",
       "      <td>34.81</td>\n",
       "      <td>0</td>\n",
       "    </tr>\n",
       "    <tr>\n",
       "      <th>4</th>\n",
       "      <td>9600.0</td>\n",
       "      <td>10.0</td>\n",
       "      <td>Dec-2014</td>\n",
       "      <td>debt_consolidation</td>\n",
       "      <td>25.81</td>\n",
       "      <td>0</td>\n",
       "    </tr>\n",
       "  </tbody>\n",
       "</table>\n",
       "</div>"
      ],
      "text/plain": [
       "   loan_amnt  emp_length   issue_d             purpose    dti  rejected\n",
       "0    15000.0        10.0  Dec-2014  debt_consolidation  12.03         0\n",
       "1    10400.0         8.0  Dec-2014         credit_card  14.92         0\n",
       "2    21425.0         6.0  Dec-2014         credit_card  18.49         0\n",
       "3     7650.0         0.0  Dec-2014  debt_consolidation  34.81         0\n",
       "4     9600.0        10.0  Dec-2014  debt_consolidation  25.81         0"
      ]
     },
     "execution_count": 31,
     "metadata": {},
     "output_type": "execute_result"
    }
   ],
   "source": [
    "data_acc.head()"
   ]
  },
  {
   "cell_type": "markdown",
   "metadata": {},
   "source": [
    "*Look at 'dti' column.*"
   ]
  },
  {
   "cell_type": "code",
   "execution_count": 32,
   "metadata": {},
   "outputs": [
    {
     "data": {
      "text/plain": [
       "count     16131472\n",
       "unique       97768\n",
       "top            -1%\n",
       "freq       1106452\n",
       "Name: dti, dtype: object"
      ]
     },
     "execution_count": 32,
     "metadata": {},
     "output_type": "execute_result"
    }
   ],
   "source": [
    "data['dti'].describe()"
   ]
  },
  {
   "cell_type": "code",
   "execution_count": 33,
   "metadata": {},
   "outputs": [
    {
     "data": {
      "text/plain": [
       "count    814643.000000\n",
       "mean         17.855847\n",
       "std           8.367111\n",
       "min           0.000000\n",
       "25%          11.640000\n",
       "50%          17.360000\n",
       "75%          23.630000\n",
       "max         197.590000\n",
       "Name: dti, dtype: float64"
      ]
     },
     "execution_count": 33,
     "metadata": {},
     "output_type": "execute_result"
    }
   ],
   "source": [
    "data_acc['dti'].describe()"
   ]
  },
  {
   "cell_type": "code",
   "execution_count": 34,
   "metadata": {},
   "outputs": [],
   "source": [
    "new_data = data.copy()"
   ]
  },
  {
   "cell_type": "markdown",
   "metadata": {},
   "source": [
    "*Turn into floats from percentage strings.*"
   ]
  },
  {
   "cell_type": "code",
   "execution_count": 35,
   "metadata": {},
   "outputs": [],
   "source": [
    "new_data['dti'] = [float(i.rstrip(\"%\")) for i in data[\"dti\"]]"
   ]
  },
  {
   "cell_type": "code",
   "execution_count": 36,
   "metadata": {},
   "outputs": [
    {
     "data": {
      "text/plain": [
       "count    1.613147e+07\n",
       "mean     1.725150e+02\n",
       "std      1.372882e+04\n",
       "min     -1.000000e+00\n",
       "25%      6.480000e+00\n",
       "50%      1.853000e+01\n",
       "75%      3.438000e+01\n",
       "max      5.000003e+07\n",
       "Name: dti, dtype: float64"
      ]
     },
     "execution_count": 36,
     "metadata": {},
     "output_type": "execute_result"
    }
   ],
   "source": [
    "new_data['dti'].describe()"
   ]
  },
  {
   "cell_type": "markdown",
   "metadata": {},
   "source": [
    "*Remove negative values as not meaningful.*"
   ]
  },
  {
   "cell_type": "code",
   "execution_count": 37,
   "metadata": {},
   "outputs": [],
   "source": [
    "new_data = new_data.loc[new_data['dti'] >= 0]"
   ]
  },
  {
   "cell_type": "code",
   "execution_count": 38,
   "metadata": {},
   "outputs": [
    {
     "data": {
      "text/plain": [
       "count    1.502502e+07\n",
       "mean     1.852927e+02\n",
       "std      1.422526e+04\n",
       "min      0.000000e+00\n",
       "25%      9.140000e+00\n",
       "50%      2.025000e+01\n",
       "75%      3.580000e+01\n",
       "max      5.000003e+07\n",
       "Name: dti, dtype: float64"
      ]
     },
     "execution_count": 38,
     "metadata": {},
     "output_type": "execute_result"
    }
   ],
   "source": [
    "new_data['dti'].describe()"
   ]
  },
  {
   "cell_type": "markdown",
   "metadata": {},
   "source": [
    "*View histogram of the distribution.*"
   ]
  },
  {
   "cell_type": "code",
   "execution_count": 39,
   "metadata": {},
   "outputs": [
    {
     "data": {
      "text/plain": [
       "<Figure size 640x480 with 1 Axes>"
      ]
     },
     "metadata": {},
     "output_type": "display_data"
    }
   ],
   "source": [
    "import matplotlib.pyplot as plt\n",
    "plt.figure()\n",
    "plt.hist(new_data['dti'],range=[0, 100])\n",
    "plt.show()"
   ]
  },
  {
   "cell_type": "code",
   "execution_count": 40,
   "metadata": {},
   "outputs": [
    {
     "data": {
      "text/plain": [
       "285134"
      ]
     },
     "execution_count": 40,
     "metadata": {},
     "output_type": "execute_result"
    }
   ],
   "source": [
    "new_data['dti'][(new_data['dti'] >= 200)].count()"
   ]
  },
  {
   "cell_type": "markdown",
   "metadata": {},
   "source": [
    "*Since these are not that many data points in comparison to the whole dataset, a cut out at 200% already seems reasonable...\n",
    "This is roughly the upper limit in the accepted dataset*"
   ]
  },
  {
   "cell_type": "markdown",
   "metadata": {},
   "source": [
    "*Look at the number of data points below 200%.*"
   ]
  },
  {
   "cell_type": "code",
   "execution_count": 41,
   "metadata": {},
   "outputs": [],
   "source": [
    "new_data = new_data.loc[new_data['dti'] < 200]"
   ]
  },
  {
   "cell_type": "code",
   "execution_count": 42,
   "metadata": {},
   "outputs": [
    {
     "data": {
      "text/plain": [
       "(14739886, 6)"
      ]
     },
     "execution_count": 42,
     "metadata": {},
     "output_type": "execute_result"
    }
   ],
   "source": [
    "new_data.shape"
   ]
  },
  {
   "cell_type": "code",
   "execution_count": 43,
   "metadata": {},
   "outputs": [
    {
     "data": {
      "text/plain": [
       "(814643, 6)"
      ]
     },
     "execution_count": 43,
     "metadata": {},
     "output_type": "execute_result"
    }
   ],
   "source": [
    "data_acc.shape"
   ]
  },
  {
   "cell_type": "code",
   "execution_count": 44,
   "metadata": {
    "collapsed": false
   },
   "outputs": [
    {
     "data": {
      "text/plain": [
       "count       14739886\n",
       "unique          3781\n",
       "top       2017-07-19\n",
       "freq           30569\n",
       "Name: issue_d, dtype: object"
      ]
     },
     "execution_count": 44,
     "metadata": {},
     "output_type": "execute_result"
    }
   ],
   "source": [
    "new_data['issue_d'].describe()"
   ]
  },
  {
   "cell_type": "code",
   "execution_count": 45,
   "metadata": {},
   "outputs": [
    {
     "data": {
      "text/plain": [
       "count       814643\n",
       "unique         124\n",
       "top       Oct-2014\n",
       "freq         33699\n",
       "Name: issue_d, dtype: object"
      ]
     },
     "execution_count": 45,
     "metadata": {},
     "output_type": "execute_result"
    }
   ],
   "source": [
    "data_acc['issue_d'].describe()"
   ]
  },
  {
   "cell_type": "markdown",
   "metadata": {},
   "source": [
    "*Parse the column to dates.*"
   ]
  },
  {
   "cell_type": "code",
   "execution_count": 46,
   "metadata": {},
   "outputs": [],
   "source": [
    "new_data['issue_d'] = pd.to_datetime(new_data['issue_d'])"
   ]
  },
  {
   "cell_type": "code",
   "execution_count": 47,
   "metadata": {},
   "outputs": [
    {
     "data": {
      "text/plain": [
       "count                14739886\n",
       "unique                   3781\n",
       "top       2017-07-19 00:00:00\n",
       "freq                    30569\n",
       "first     2007-05-26 00:00:00\n",
       "last      2017-09-30 00:00:00\n",
       "Name: issue_d, dtype: object"
      ]
     },
     "execution_count": 47,
     "metadata": {},
     "output_type": "execute_result"
    }
   ],
   "source": [
    "new_data['issue_d'].describe()"
   ]
  },
  {
   "cell_type": "code",
   "execution_count": 48,
   "metadata": {},
   "outputs": [],
   "source": [
    "data_acc['issue_d'] = pd.to_datetime(data_acc['issue_d'])"
   ]
  },
  {
   "cell_type": "code",
   "execution_count": 49,
   "metadata": {},
   "outputs": [
    {
     "data": {
      "text/plain": [
       "count                  814643\n",
       "unique                    124\n",
       "top       2014-10-01 00:00:00\n",
       "freq                    33699\n",
       "first     2007-06-01 00:00:00\n",
       "last      2017-09-01 00:00:00\n",
       "Name: issue_d, dtype: object"
      ]
     },
     "execution_count": 49,
     "metadata": {},
     "output_type": "execute_result"
    }
   ],
   "source": [
    "data_acc['issue_d'].describe()"
   ]
  },
  {
   "cell_type": "markdown",
   "metadata": {},
   "source": [
    "*Now just join the accepted and rejected datasets...*"
   ]
  },
  {
   "cell_type": "code",
   "execution_count": null,
   "metadata": {},
   "outputs": [],
   "source": [
    "all_data = pd.concat([new_data, data_acc])"
   ]
  },
  {
   "cell_type": "code",
   "execution_count": 51,
   "metadata": {},
   "outputs": [
    {
     "data": {
      "text/html": [
       "<div>\n",
       "<style scoped>\n",
       "    .dataframe tbody tr th:only-of-type {\n",
       "        vertical-align: middle;\n",
       "    }\n",
       "\n",
       "    .dataframe tbody tr th {\n",
       "        vertical-align: top;\n",
       "    }\n",
       "\n",
       "    .dataframe thead th {\n",
       "        text-align: right;\n",
       "    }\n",
       "</style>\n",
       "<table border=\"1\" class=\"dataframe\">\n",
       "  <thead>\n",
       "    <tr style=\"text-align: right;\">\n",
       "      <th></th>\n",
       "      <th>dti</th>\n",
       "      <th>emp_length</th>\n",
       "      <th>issue_d</th>\n",
       "      <th>loan_amnt</th>\n",
       "      <th>purpose</th>\n",
       "      <th>rejected</th>\n",
       "    </tr>\n",
       "  </thead>\n",
       "  <tbody>\n",
       "    <tr>\n",
       "      <th>1216126</th>\n",
       "      <td>18.92</td>\n",
       "      <td>10.0</td>\n",
       "      <td>2016-09-27</td>\n",
       "      <td>7000.0</td>\n",
       "      <td>Debt consolidation</td>\n",
       "      <td>1</td>\n",
       "    </tr>\n",
       "    <tr>\n",
       "      <th>10018985</th>\n",
       "      <td>33.88</td>\n",
       "      <td>5.0</td>\n",
       "      <td>2016-06-17</td>\n",
       "      <td>2250.0</td>\n",
       "      <td>medical</td>\n",
       "      <td>1</td>\n",
       "    </tr>\n",
       "    <tr>\n",
       "      <th>8381245</th>\n",
       "      <td>12.62</td>\n",
       "      <td>0.0</td>\n",
       "      <td>2017-08-23</td>\n",
       "      <td>4000.0</td>\n",
       "      <td>Credit card refinancing</td>\n",
       "      <td>1</td>\n",
       "    </tr>\n",
       "    <tr>\n",
       "      <th>8711611</th>\n",
       "      <td>34.79</td>\n",
       "      <td>0.0</td>\n",
       "      <td>2017-09-07</td>\n",
       "      <td>10000.0</td>\n",
       "      <td>Car financing</td>\n",
       "      <td>1</td>\n",
       "    </tr>\n",
       "    <tr>\n",
       "      <th>695741</th>\n",
       "      <td>19.42</td>\n",
       "      <td>1.0</td>\n",
       "      <td>2016-07-01</td>\n",
       "      <td>12000.0</td>\n",
       "      <td>debt_consolidation</td>\n",
       "      <td>0</td>\n",
       "    </tr>\n",
       "  </tbody>\n",
       "</table>\n",
       "</div>"
      ],
      "text/plain": [
       "            dti  emp_length    issue_d  loan_amnt                  purpose  \\\n",
       "1216126   18.92        10.0 2016-09-27     7000.0       Debt consolidation   \n",
       "10018985  33.88         5.0 2016-06-17     2250.0                  medical   \n",
       "8381245   12.62         0.0 2017-08-23     4000.0  Credit card refinancing   \n",
       "8711611   34.79         0.0 2017-09-07    10000.0            Car financing   \n",
       "695741    19.42         1.0 2016-07-01    12000.0       debt_consolidation   \n",
       "\n",
       "          rejected  \n",
       "1216126          1  \n",
       "10018985         1  \n",
       "8381245          1  \n",
       "8711611          1  \n",
       "695741           0  "
      ]
     },
     "execution_count": 51,
     "metadata": {},
     "output_type": "execute_result"
    }
   ],
   "source": [
    "all_data.sample(5)"
   ]
  },
  {
   "cell_type": "markdown",
   "metadata": {},
   "source": [
    "*Check for counts of accepted and rejected loans to make sure the merger worked correctly.*"
   ]
  },
  {
   "cell_type": "code",
   "execution_count": 52,
   "metadata": {},
   "outputs": [
    {
     "data": {
      "text/plain": [
       "814643"
      ]
     },
     "execution_count": 52,
     "metadata": {},
     "output_type": "execute_result"
    }
   ],
   "source": [
    "all_data['rejected'][(all_data['rejected'] == 0)].count()"
   ]
  },
  {
   "cell_type": "code",
   "execution_count": 53,
   "metadata": {},
   "outputs": [
    {
     "data": {
      "text/plain": [
       "14739886"
      ]
     },
     "execution_count": 53,
     "metadata": {},
     "output_type": "execute_result"
    }
   ],
   "source": [
    "all_data['rejected'][(all_data['rejected'] == 1)].count()"
   ]
  },
  {
   "cell_type": "markdown",
   "metadata": {},
   "source": [
    "*Save the data to an external file for checkpoint and get dummy variables.*"
   ]
  },
  {
   "cell_type": "code",
   "execution_count": 54,
   "metadata": {},
   "outputs": [],
   "source": [
    "all_data.to_csv('all_data_accepted_and_rejected.lfs.csv', sep = ',')"
   ]
  }
 ],
 "metadata": {
  "kernelspec": {
   "display_name": "Python 3",
   "language": "python",
   "name": "python3"
  },
  "language_info": {
   "codemirror_mode": {
    "name": "ipython",
    "version": 3
   },
   "file_extension": ".py",
   "mimetype": "text/x-python",
   "name": "python",
   "nbconvert_exporter": "python",
   "pygments_lexer": "ipython3",
   "version": "3.6.7"
  }
 },
 "nbformat": 4,
 "nbformat_minor": 2
}
